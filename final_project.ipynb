{
 "cells": [
  {
   "cell_type": "markdown",
   "metadata": {},
   "source": [
    "# Final Project\n"
   ]
  },
  {
   "cell_type": "code",
   "execution_count": null,
   "metadata": {},
   "outputs": [],
   "source": [
    "import pandas as pd\n",
    "import numpy as np\n",
    "import matplotlib.pyplot as plt\n",
    "import seaborn as sb\n",
    "import statsmodels.api as sm\n",
    "import sklearn.model_selection as skms\n",
    "import sklearn.linear_model as sklm\n",
    "import sklearn.tree as skt\n",
    "import sklearn.ensemble as skens"
   ]
  },
  {
   "cell_type": "markdown",
   "metadata": {},
   "source": [
    "## Introduction\n",
    "\n",
    "### Assignment\n",
    "\n",
    "In this final project you be analyzing a data set using techniques from Data Science 101. The goal of this project is to demonstrate your ability to apply the concepts you have learned in this course to a real-world data set. You will be graded on the quality of your analysis, the clarity of your code, and the effectiveness of your communication.\n",
    "\n",
    "Each section will contain a brief description of the task, followed by a code cell where you will write your code. You should write your code in the code cell and run it to generate the output. You will need to interpret the results of your analysis in a way that is understandable to people without a background in statistics or Python programming You should use markdown to format your text in a legible way.\n",
    "\n",
    "**Individual Effort Policy**: You may use any resources you like to complete this project, including the internet, textbooks, and discussions with other people. You may also use GenAI tools like Copilot or ChatGPT. It is expected that students will use GenAI tools for writing code, and no citation will be required for GenAI assisted code. For the written portions of the project, use of GenAI should be cited in a way that make clear how the GenAI tool was used. The *GenAI Appendix* section at the end provides a template you can use to indicate how you used tools like ChatGPT for each section. You should be prepared to explain any code or written responses that you submit upon request.\n",
    "\n",
    "### Background\n",
    "\n",
    "In this assignment, we will analyze two data sets from \"Wolves and Moose of Isle Royale\" project. The data sets contain information about the populations of wolves and moose on Isle Royale, an island in Lake Superior. The data sets include information about the number of wolves and moose on the island, as well as other variables that may be related to the populations of wolves and moose.\n",
    "\n",
    "> Isle Royale is a remote wilderness island, isolated by the frigid waters of Lake Superior, and home to populations of wolves and moose. As predator and prey, their lives and deaths are linked in a drama that is timeless and historic. Their lives are historic because we have been documenting their lives for more than five decades. This research project is the longest continuous study of any predator-prey system in the world. ([Source](https://isleroyalewolf.org/overview/overview/at_a_glance.html))\n",
    "\n",
    "You may find it helpful to read the most recent [Annual Report](https://isleroyalewolf.org/sites/default/files/annual-report-pdf/WolfMooseReport_2024_final-web.pdf) to learn more about the project.\n",
    "\n",
    "\n",
    "## Data\n",
    "\n",
    "The data for this project are contained in two CSV files:"
   ]
  },
  {
   "cell_type": "code",
   "execution_count": 2,
   "metadata": {},
   "outputs": [],
   "source": [
    "wolf_moose_yearly = pd.read_csv(\"./wolf_moose_yearly.csv\", na_values = [\"NA\", \"N/A\", \"N/A yet\", \"NA yet\"])\n",
    "moose_deaths = pd.read_csv(\"./moose_deaths.csv\")"
   ]
  },
  {
   "cell_type": "markdown",
   "metadata": {},
   "source": [
    "The `wolf_moose_yearly` data set contains yearly counts of wolf and moose population, along with variables about the environment and other factors that may be related to the populations. The `moose_deaths` data set contains information about the age and size of decreased moose on Isle Royale.\n",
    "\n",
    "**Task**: Report the number of rows and columns in each data set. Report the column names in each data set."
   ]
  },
  {
   "cell_type": "code",
   "execution_count": 5,
   "metadata": {},
   "outputs": [
    {
     "name": "stdout",
     "output_type": "stream",
     "text": [
      "wolf_moose_yearly: 61 rows, 15 columns\n",
      "moose_deaths: 662 rows, 8 columns\n",
      "wolf_moose_yearly columns: Index(['year', 'wolves', 'moose', 'kill rate', 'predation rate',\n",
      "       'moose recruitment rate', 'moose mean age excluding calves',\n",
      "       'July-Sept (temp, F)', 'Apr-May (temp, F)', 'Jan-Feb (temp, F)',\n",
      "       'May-Aug (precip, inches)', 'NAO (DJFM - station based)',\n",
      "       'NAO - annual', 'snow.depth (cm)', 'ice bridges (0=none, 1 = present)'],\n",
      "      dtype='object')\n",
      "moose_deaths columns: Index(['Sex', 'Year of birth', 'Cranial Volume (cm3)',\n",
      "       'Winter temperature (standardized)', 'Moose abundance (standardized)',\n",
      "       'Wolf abundance (standardized)', 'Winter temperature (categorical)',\n",
      "       'Age at death'],\n",
      "      dtype='object')\n"
     ]
    }
   ],
   "source": [
    "\n",
    "print(f\"wolf_moose_yearly: {wolf_moose_yearly.shape[0]} rows, {wolf_moose_yearly.shape[1]} columns\")\n",
    "print(f\"moose_deaths: {moose_deaths.shape[0]} rows, {moose_deaths.shape[1]} columns\")\n",
    "\n",
    "\n",
    "print(\"wolf_moose_yearly columns:\", wolf_moose_yearly.columns)\n",
    "print(\"moose_deaths columns:\", moose_deaths.columns)"
   ]
  },
  {
   "cell_type": "markdown",
   "metadata": {},
   "source": [
    "### Codebook\n",
    "\n",
    "These data do not include a code-book, but there is written documentation on many of the concepts of what is measured on the [Data & Interpreation](https://isleroyalewolf.org/data/data/home.html) page from the Isle Royale project. For the \"NAO\" columns, see [this page](https://climatedataguide.ucar.edu/climate-data/hurrell-north-atlantic-oscillation-nao-index-station-based). \n",
    "\n",
    "**Task**: We will create our own code-book. For each of the variables in both tables complete this template:\n",
    "\n",
    "* Variable Name:\n",
    "* Description:\n",
    "* Type: (e.g., numeric, categorical, etc.)\n",
    "\n",
    "If there are several variables that are essentially the same, you may summarize them together as a single entry."
   ]
  },
  {
   "cell_type": "code",
   "execution_count": 8,
   "metadata": {},
   "outputs": [
    {
     "name": "stdout",
     "output_type": "stream",
     "text": [
      "year                                   int64\n",
      "wolves                                 int64\n",
      "moose                                  int64\n",
      "kill rate                            float64\n",
      "predation rate                       float64\n",
      "moose recruitment rate               float64\n",
      "moose mean age excluding calves      float64\n",
      "July-Sept (temp, F)                  float64\n",
      "Apr-May (temp, F)                    float64\n",
      "Jan-Feb (temp, F)                    float64\n",
      "May-Aug (precip, inches)             float64\n",
      "NAO (DJFM - station based)           float64\n",
      "NAO - annual                         float64\n",
      "snow.depth (cm)                      float64\n",
      "ice bridges (0=none, 1 = present)      int64\n",
      "dtype: object\n",
      "Sex                                   object\n",
      "Year of birth                          int64\n",
      "Cranial Volume (cm3)                 float64\n",
      "Winter temperature (standardized)    float64\n",
      "Moose abundance (standardized)       float64\n",
      "Wolf abundance (standardized)        float64\n",
      "Winter temperature (categorical)      object\n",
      "Age at death                           int64\n",
      "dtype: object\n"
     ]
    }
   ],
   "source": [
    "print(wolf_moose_yearly.dtypes)\n",
    "print(moose_deaths.dtypes)"
   ]
  },
  {
   "cell_type": "markdown",
   "metadata": {},
   "source": [
    "### Codebook\n",
    "\n",
    "#### wolf_moose_yearly\n",
    "\n",
    "* Variable Name: year\n",
    "    * Description: Year of observation\n",
    "    * Type: numeric\n",
    "\n",
    "* Variable Name: wolves\n",
    "    * Description: Number of wolves\n",
    "    * Type: numeric\n",
    "\n",
    "* Variable Name: moose\n",
    "    * Description: Number of moose\n",
    "    * Type: numeric\n",
    "\n",
    "* Variable Name: kill rate\n",
    "    * Description: Kill rate of wolves\n",
    "    * Type: numeric\n",
    "\n",
    "* Variable Name: predation rate\n",
    "    * Description: Predation rate of wolves\n",
    "    * Type: numeric\n",
    "\n",
    "* Variable Name: moose recruitment rate\n",
    "    * Description: Moose recruitment rate\n",
    "    * Type: numeric\n",
    "\n",
    "* Variable Name: moose mean age excluding calves\n",
    "    * Description: Mean age of moose excluding calves\n",
    "    * Type: numeric\n",
    "\n",
    "* Variable Name: July-Sept (temp, F)\n",
    "    * Description: Average temperature from July to September in Fahrenheit\n",
    "    * Type: numeric\n",
    "\n",
    "* Variable Name: Apr-May (temp, F)\n",
    "    * Description: Average temperature from April to May in Fahrenheit\n",
    "    * Type: numeric\n",
    "\n",
    "* Variable Name: Jan-Feb (temp, F)\n",
    "    * Description: Average temperature from January to February in Fahrenheit\n",
    "    * Type: numeric\n",
    "\n",
    "* Variable Name: May-Aug (precip, inches)\n",
    "    * Description: Precipitation from May to August in inches\n",
    "    * Type: numeric\n",
    "\n",
    "* Variable Name: NAO (DJFM - station based)\n",
    "    * Description: North Atlantic Oscillation index for December to March (station based)\n",
    "    * Type: numeric\n",
    "\n",
    "* Variable Name: NAO - annual\n",
    "    * Description: Annual North Atlantic Oscillation index\n",
    "    * Type: numeric\n",
    "\n",
    "* Variable Name: snow.depth (cm)\n",
    "    * Description: Snow depth in centimeters\n",
    "    * Type: numeric\n",
    "\n",
    "* Variable Name: ice bridges (0=none, 1 = present)\n",
    "    * Description: Presence of ice bridges (0 = none, 1 = present)\n",
    "    * Type: categorical\n",
    "\n",
    "#### moose_deaths\n",
    "\n",
    "* Variable Name: Sex\n",
    "    * Description: Sex of the moose\n",
    "    * Type: categorical\n",
    "\n",
    "* Variable Name: Year of birth\n",
    "    * Description: Year of birth of the moose\n",
    "    * Type: numeric\n",
    "\n",
    "* Variable Name: Cranial Volume (cm3)\n",
    "    * Description: Cranial volume of the moose in cubic centimeters\n",
    "    * Type: numeric\n",
    "\n",
    "* Variable Name: Winter temperature (standardized)\n",
    "    * Description: Standardized winter temperature\n",
    "    * Type: numeric\n",
    "\n",
    "* Variable Name: Moose abundance (standardized)\n",
    "    * Description: Standardized moose abundance\n",
    "    * Type: numeric\n",
    "\n",
    "* Variable Name: Wolf abundance (standardized)\n",
    "    * Description: Standardized wolf abundance\n",
    "    * Type: numeric\n",
    "\n",
    "* Variable Name: Winter temperature (categorical)\n",
    "    * Description: Categorical winter temperature (e.g., warm, cold)\n",
    "    * Type: categorical\n",
    "\n",
    "* Variable Name: Age at death\n",
    "    * Description: Age of the moose at death\n",
    "    * Type: numeric"
   ]
  },
  {
   "cell_type": "markdown",
   "metadata": {},
   "source": [
    "### Data Cleaning\n",
    "\n",
    "**Task**: Check for missing values in each data set. If there are missing values, report the number of missing values for each variable."
   ]
  },
  {
   "cell_type": "code",
   "execution_count": 10,
   "metadata": {},
   "outputs": [
    {
     "name": "stdout",
     "output_type": "stream",
     "text": [
      "Missing values in wolf_moose_yearly:\n",
      "year                                  0\n",
      "wolves                                0\n",
      "moose                                 0\n",
      "kill rate                            13\n",
      "predation rate                       13\n",
      "moose recruitment rate                3\n",
      "moose mean age excluding calves      12\n",
      "July-Sept (temp, F)                   1\n",
      "Apr-May (temp, F)                     0\n",
      "Jan-Feb (temp, F)                     0\n",
      "May-Aug (precip, inches)              1\n",
      "NAO (DJFM - station based)            1\n",
      "NAO - annual                          2\n",
      "snow.depth (cm)                      16\n",
      "ice bridges (0=none, 1 = present)     0\n",
      "dtype: int64\n",
      "Missing values in moose_deaths:\n",
      "Sex                                  0\n",
      "Year of birth                        0\n",
      "Cranial Volume (cm3)                 0\n",
      "Winter temperature (standardized)    0\n",
      "Moose abundance (standardized)       0\n",
      "Wolf abundance (standardized)        0\n",
      "Winter temperature (categorical)     0\n",
      "Age at death                         0\n",
      "dtype: int64\n"
     ]
    }
   ],
   "source": [
    "# Missing values in wolf_moose_yearly\n",
    "missing_values_wolf_moose_yearly = wolf_moose_yearly.isnull().sum()\n",
    "print(\"Missing values in wolf_moose_yearly:\")\n",
    "print(missing_values_wolf_moose_yearly)\n",
    "\n",
    "# Missing values in moose_deaths\n",
    "missing_values_moose_deaths = moose_deaths.isnull().sum()\n",
    "print(\"Missing values in moose_deaths:\")\n",
    "print(missing_values_moose_deaths)"
   ]
  },
  {
   "cell_type": "markdown",
   "metadata": {},
   "source": [
    "**Task**: suggest a strategy for dealing with missing values in each data set."
   ]
  },
  {
   "cell_type": "markdown",
   "metadata": {},
   "source": [
    "### Wolf_moose_yearly Data set\n",
    "\n",
    "1. ** All colmns having missing value are numeric colmns. `kill rate`, `predation rate`, `moose recruitment rate`, `moose mean age excluding calves`, `July-Sept (temp, F)`, `May-Aug (precip, inches)`, `NAO (DJFM - station based)`, `NAO - annual`, and `snow.depth (cm)`. I think it is better to use median value of the column to replace missing data. Median is representative value of the colmn and it is not influenced by the extreme values. \n",
    "\n",
    "\n",
    "\n",
    "### Moose_deaths Data Set\n",
    "\n",
    "The `moose_deaths` data set does not contain any missing values. \n"
   ]
  },
  {
   "cell_type": "markdown",
   "metadata": {},
   "source": [
    "## Exploratory Data Analysis\n",
    "\n",
    "In this section, you will explore the distributions of the variables in the data sets. You will also explore the relationships between variables in the data sets.\n",
    "\n",
    "### Univariate Exploration\n",
    "\n",
    "**Task**: In this section, select one variable of each type listed below and describe the distribution of the variable. Include at least one plot and at least one numerical summary in your description.\n",
    "\n",
    "#### Discrete Variable"
   ]
  },
  {
   "cell_type": "code",
   "execution_count": 16,
   "metadata": {},
   "outputs": [
    {
     "data": {
      "image/png": "[encoded data removed]",
      "text/plain": [
       "<Figure size 640x480 with 1 Axes>"
      ]
     },
     "metadata": {},
     "output_type": "display_data"
    },
    {
     "name": "stdout",
     "output_type": "stream",
     "text": [
      "count    61.000000\n",
      "mean     21.065574\n",
      "std       9.998115\n",
      "min       2.000000\n",
      "25%      15.000000\n",
      "50%      21.000000\n",
      "75%      25.000000\n",
      "max      50.000000\n",
      "Name: wolves, dtype: float64\n"
     ]
    }
   ],
   "source": [
    "# Plot\n",
    "\n",
    "plt.hist(wolf_moose_yearly['wolves'].dropna(), bins=15, edgecolor='black')\n",
    "plt.title('Distribution of Wolves Population')\n",
    "plt.xlabel('Number of Wolves')\n",
    "plt.ylabel('Frequency')\n",
    "plt.show()\n",
    "\n",
    "# summary\n",
    "wolves_summary = wolf_moose_yearly['wolves'].describe()\n",
    "print(wolves_summary)"
   ]
  },
  {
   "cell_type": "markdown",
   "metadata": {},
   "source": [
    "#### Numeric Variable"
   ]
  },
  {
   "cell_type": "code",
   "execution_count": 14,
   "metadata": {},
   "outputs": [
    {
     "name": "stdout",
     "output_type": "stream",
     "text": [
      "count    45.000000\n",
      "mean     17.650956\n",
      "std       5.736031\n",
      "min       6.780000\n",
      "25%      14.139000\n",
      "50%      16.944000\n",
      "75%      21.062000\n",
      "max      33.246000\n",
      "Name: snow.depth (cm), dtype: float64\n"
     ]
    },
    {
     "data": {
      "image/png": "[encoded data removed]",
      "text/plain": [
       "<Figure size 640x480 with 1 Axes>"
      ]
     },
     "metadata": {},
     "output_type": "display_data"
    }
   ],
   "source": [
    "# Plot\n",
    "plt.hist(wolf_moose_yearly['snow.depth (cm)'].dropna(), bins=15, edgecolor='black')\n",
    "plt.title('Distribution of Snow Depth (cm)')\n",
    "plt.xlabel('Snow Depth (cm)')\n",
    "plt.ylabel('Frequency')\n",
    "\n",
    "\n",
    "# Summary\n",
    "snow_depth_summary = wolf_moose_yearly['snow.depth (cm)'].describe()\n",
    "print(snow_depth_summary)"
   ]
  },
  {
   "cell_type": "markdown",
   "metadata": {},
   "source": [
    "### Multivariate Exploration\n",
    "\n",
    "\n",
    "**Task**: In this section, select pairs of variables of combination of types listed below and describe either the joint distributions or conditional distributions in which you condition on one of the variables. Include at least one plot and at least one numerical summary in your description.\n"
   ]
  },
  {
   "cell_type": "markdown",
   "metadata": {},
   "source": [
    "\n",
    "#### Discrete-Discrete"
   ]
  },
  {
   "cell_type": "code",
   "execution_count": 28,
   "metadata": {},
   "outputs": [
    {
     "data": {
      "image/png": "[encoded data removed]",
      "text/plain": [
       "<Figure size 640x480 with 1 Axes>"
      ]
     },
     "metadata": {},
     "output_type": "display_data"
    },
    {
     "name": "stdout",
     "output_type": "stream",
     "text": [
      "Sex                               Female  Male\n",
      "Winter temperature (categorical)              \n",
      "cold                                 167   174\n",
      "warm                                 149   172\n"
     ]
    }
   ],
   "source": [
    "# Create a contingency table\n",
    "contingency_table_winter_sex = pd.crosstab(moose_deaths['Winter temperature (categorical)'], moose_deaths['Sex'])\n",
    "\n",
    "# Plot the contingency table\n",
    "contingency_table_winter_sex.plot(kind='bar', stacked=True)\n",
    "plt.title('Contingency Table of Winter Temperature and Sex')\n",
    "plt.xlabel('Winter Temperature (categorical)')\n",
    "plt.ylabel('Frequency')\n",
    "plt.legend(title='Sex')\n",
    "plt.show()\n",
    "\n",
    "# Print the contingency table\n",
    "print(contingency_table_winter_sex)\n"
   ]
  },
  {
   "cell_type": "markdown",
   "metadata": {},
   "source": [
    "#### Discrete-Numeric"
   ]
  },
  {
   "cell_type": "code",
   "execution_count": 27,
   "metadata": {},
   "outputs": [
    {
     "data": {
      "image/png": "[encoded data removed]",
      "text/plain": [
       "<Figure size 640x480 with 1 Axes>"
      ]
     },
     "metadata": {},
     "output_type": "display_data"
    },
    {
     "name": "stdout",
     "output_type": "stream",
     "text": [
      "        count       mean       std  min  25%   50%   75%   max\n",
      "Sex                                                           \n",
      "Female  316.0  12.018987  3.768662  5.0  9.0  12.0  15.0  20.0\n",
      "Male    346.0  10.641618  3.068097  5.0  9.0  11.0  13.0  20.0\n"
     ]
    }
   ],
   "source": [
    "\n",
    "# Plot\n",
    "sb.boxplot(x='Sex', y='Age at death', data=moose_deaths)\n",
    "plt.title('Box Plot of Age at Death by Sex')\n",
    "plt.xlabel('Sex')\n",
    "plt.ylabel('Age at Death')\n",
    "plt.show()\n",
    "\n",
    "# Summary\n",
    "age_at_death_by_sex = moose_deaths.groupby('Sex')['Age at death'].describe()\n",
    "print(age_at_death_by_sex)"
   ]
  },
  {
   "cell_type": "markdown",
   "metadata": {},
   "source": [
    "#### Numeric-Numeric"
   ]
  },
  {
   "cell_type": "code",
   "execution_count": 24,
   "metadata": {
    "vscode": {
     "languageId": "ruby"
    }
   },
   "outputs": [
    {
     "data": {
      "image/png": "[encoded data removed]",
      "text/plain": [
       "<Figure size 640x480 with 1 Axes>"
      ]
     },
     "metadata": {},
     "output_type": "display_data"
    },
    {
     "name": "stdout",
     "output_type": "stream",
     "text": [
      "Correlation coefficient between predation rate and moose recruitment rate: -0.5098008957622947\n"
     ]
    }
   ],
   "source": [
    "# Scatter plot\n",
    "plt.scatter(wolf_moose_yearly['predation rate'], wolf_moose_yearly['moose recruitment rate'])\n",
    "plt.title('Scatter Plot of predation rate vs. Moose Recruitment Rate')\n",
    "plt.xlabel('Predation Rate')\n",
    "plt.ylabel('Moose Recruitment Rate')\n",
    "plt.show()\n",
    "\n",
    "# Correlation coefficient\n",
    "correlation = wolf_moose_yearly['predation rate'].corr(wolf_moose_yearly['moose recruitment rate'])\n",
    "print(f\"Correlation coefficient between predation rate and moose recruitment rate: {correlation}\")"
   ]
  },
  {
   "cell_type": "markdown",
   "metadata": {},
   "source": [
    "### Summary\n",
    "\n",
    "**Task**: Based on your exploration of these data, write up a paragraph of your findings. What are the key features of the data? What relationships do you see between the variables? What variables might be related to the populations of wolves and moose on Isle Royale? Consider how these questions can be answered in the next section when we perform inference."
   ]
  },
  {
   "cell_type": "markdown",
   "metadata": {},
   "source": [
    "## Winter Temperature and Sex:\n",
    "\n",
    "The first chart shows that the distribution between males and females is fairly even across both temperature conditions. This suggests that the sex distribution remains balanced regardless of winter temperature conditions, which could indicate that external temperature factors do not selectively affect the survival or presence of one sex over the other in these populations.\n",
    "\n",
    "## Age at Death by Sex:\n",
    "\n",
    "The box plot of age at death by sex reveals that there female live longer than male on average. And female age at death varies a little bit larger than that of male. \n",
    "\n",
    "## Predation Rate vs. Moose Recruitment Rate:\n",
    "\n",
    "The scatter plot indicates a negative correlation between predation rate and moose recruitment rate. As predation rate increases, moose recruitment rate tends to decrease. It suggests that higher predation pressure from wolves limit the growth of the moose population. "
   ]
  },
  {
   "cell_type": "markdown",
   "metadata": {},
   "source": [
    "## Inference\n",
    "\n",
    "In this section we will perform inference: make guesses about populations or future data based on our sample data.\n",
    "\n",
    "### Population and Sampling\n",
    "\n",
    "**Task**: Describe the population of interest in this study. What is the population you are trying to make inferences about? What is the sample in this study? What is the relationship between the population and the sample? You may consider hypothetical populations or data generating processes if you find those more natural to articulate."
   ]
  },
  {
   "cell_type": "markdown",
   "metadata": {},
   "source": []
  },
  {
   "cell_type": "markdown",
   "metadata": {},
   "source": [
    "The population of interest in this study is the populations of wolves and moose on Isle Royale, an island in Lake Superior. Population refers to all individuals of wolves, moose, and other things such as temperature, NAo, snowdepth, etc, on the island that are subject to the study variables.\n",
    "\n",
    "The sample is a small portion of population, it represents a selected subset of the broader populations of wolves and moose, collected during specific intervals and under particular conditions. This sample is instrumental for deriving broader inferences about the population dynamics on Isle Royale. Through our analysis of this data, we aim to identify trends, traits, and relationships among the variables, which can provide insights into the ecological interactions and challenges on the island. These insights are crucial for developing informed conservation and management strategies to support the wildlife of Isle Royale."
   ]
  },
  {
   "cell_type": "markdown",
   "metadata": {},
   "source": [
    "### Hypothesis Testing\n",
    "\n",
    "#### Theory\n",
    "\n",
    "**Task**: give a theory you would like to test about the population you identified in the previous section. Explain how you can use the format of a hypothesis to test that theory. Clearly describe the population parameter, parameter space, null hypothesis, and alternative hypothesis you will use to test this theory."
   ]
  },
  {
   "cell_type": "markdown",
   "metadata": {},
   "source": [
    "```markdown\n",
    "\n",
    "#### Theory\n",
    "\n",
    "Whether the mean age at death of moose differs between males and females on Isle Royale. \n",
    "\n",
    "**Population Parameter**: Mean age at death of moose\n",
    "**Parameter Space**: The set of all possible values for the mean age at death of moose for males and females\n",
    "**Null Hypothesis (H0)**: The mean age at death of male moose is equal to the mean age at death of female moose. (μ_male = μ_female)\n",
    "**Alternative Hypothesis (H1)**: The mean age at death of male moose is not equal to the mean age at death of female moose. (μ_male ≠ μ_female)\n",
    "\n",
    "We can use a two-sample t-test to compare the means of the two groups. The test will determine if there is a statistically significant difference between the mean ages at death of male and female moose.\n",
    "```"
   ]
  },
  {
   "cell_type": "markdown",
   "metadata": {},
   "source": [
    "#### Application\n",
    "\n",
    "**Task**: Select a tolerance for Type I error ($\\alpha$-level). Perform the hypothesis test you described in the previous section. Report the results of the test using either a rejection region or a p-value. Do you reject the null hypothesis? What is your conclusion about the theory you tested?"
   ]
  },
  {
   "cell_type": "code",
   "execution_count": 29,
   "metadata": {},
   "outputs": [
    {
     "name": "stdout",
     "output_type": "stream",
     "text": [
      "T-statistic: -5.175180218446346\n",
      "P-value: 3.0252362239003225e-07\n",
      "Reject the null hypothesis: There is a significant difference in the mean age at death between male and female moose.\n"
     ]
    }
   ],
   "source": [
    "\n",
    "age_at_death_male = moose_deaths[moose_deaths['Sex'] == 'Male']['Age at death']\n",
    "age_at_death_female = moose_deaths[moose_deaths['Sex'] == 'Female']['Age at death']\n",
    "\n",
    "\n",
    "t_stat, p_value, df = sm.stats.ttest_ind(age_at_death_male, age_at_death_female)\n",
    "\n",
    "\n",
    "print(f\"T-statistic: {t_stat}\")\n",
    "print(f\"P-value: {p_value}\")\n",
    "\n",
    "\n",
    "alpha = 0.05\n",
    "if p_value < alpha:\n",
    "    print(\"Reject the null hypothesis: There is a significant difference in the mean age at death between male and female moose.\")\n",
    "else:\n",
    "    print(\"Fail to reject the null hypothesis: There is no significant difference in the mean age at death between male and female moose.\")\n"
   ]
  },
  {
   "cell_type": "markdown",
   "metadata": {},
   "source": [
    "### Confidence Interval\n",
    "\n",
    "#### Theory\n",
    "\n",
    "**Task**: Identify a different population parameter than the one you used in the previous section. Explain how you can use the format of a confidence interval to make inferences about this population parameter. Clearly describe the population parameter, confidence level, and confidence interval you will use to make inferences about this population parameter."
   ]
  },
  {
   "cell_type": "markdown",
   "metadata": {},
   "source": [
    "```markdown\n",
    "### Theory\n",
    "\n",
    "**Population Parameter**: Mean age of moose excluding calves on Isle Royale.\n",
    "\n",
    "**Confidence Level**: 95%\n",
    "\n",
    "**Confidence Interval**: A confidence interval provides a range of values within which the true population parameter is expected to lie with a certain level of confidence. For the mean age of moose excluding calves, we calculate the 95% confidence interval. This interval estimates the range within which the true mean age of moose on Isle Royale is likely to fall, based on our sample data.\n",
    "\n",
    "To calculate the confidence interval, we use the sample mean and standard deviation of the moose ages, and the critical value from the t-distribution. The formula for the confidence interval is:\n",
    "\n",
    "```\n",
    "CI = x̄ ± t(α/2, n-1) * (s/√n)\n",
    "```\n",
    "\n",
    "where:\n",
    "\n",
    "- `x̄` is the sample mean of moose ages.\n",
    "- `t(α/2, n-1)` is the critical value from the t-distribution with `n-1` degrees of freedom.\n",
    "- `s` is the sample standard deviation of moose ages.\n",
    "- `n` is the sample size, reflecting the number of moose ages recorded excluding calves.\n",
    "\n",
    "\n",
    "\n",
    "```"
   ]
  },
  {
   "cell_type": "markdown",
   "metadata": {},
   "source": [
    "#### Application\n",
    "\n",
    "**Task**: Select a confidence level for your confidence interval. Compute the confidence interval for the population parameter you identified in the previous section. Report the results of the confidence interval. What is your conclusion about the population parameter you are making inferences about? What does this tell you about wolves and moose on Isle Royale?"
   ]
  },
  {
   "cell_type": "code",
   "execution_count": null,
   "metadata": {
    "vscode": {
     "languageId": "ruby"
    }
   },
   "outputs": [
    {
     "name": "stdout",
     "output_type": "stream",
     "text": [
      "95% Confidence Interval for the mean age of moose excluding calves: (6.105564568932999, 6.8805578800465925)\n"
     ]
    }
   ],
   "source": [
    "import scipy.stats as stats\n",
    "\n",
    "# Sample mean and standard deviation\n",
    "moose_age_stats = wolf_moose_yearly['moose mean age excluding calves'].describe()\n",
    "mean_moose_age = moose_age_stats['mean']\n",
    "std_moose_age = moose_age_stats['std']\n",
    "n = moose_age_stats['count']\n",
    "\n",
    "# Confidence level\n",
    "confidence_level = 0.95\n",
    "\n",
    "# Calculate the t-critical value\n",
    "t_critical = stats.t.ppf((1 + confidence_level) / 2, df=n-1)\n",
    "\n",
    "# Calculate the margin of error\n",
    "margin_of_error = t_critical * (std_moose_age / np.sqrt(n))\n",
    "\n",
    "# Calculate the confidence interval\n",
    "confidence_interval = (mean_moose_age - margin_of_error, mean_moose_age + margin_of_error)\n",
    "\n",
    "print(f\"95% Confidence Interval for the mean age of moose excluding calves: {confidence_interval}\")\n",
    "\n"
   ]
  },
  {
   "cell_type": "markdown",
   "metadata": {},
   "source": [
    "95% confidence interval for the mean age of moose excluding calves on Isle Royale to be between approximately 6.11 and 6.88 years. This result helps in understanding the age distribution and potential longevity of the moose population on the island, excluding the younger calves.\n",
    "\n",
    "Conclusion about the Population Parameter:\n",
    "The mean age of approximately 6.5 years suggests that the moose population has a relatively middle-aged demographic, indicating that many moose are surviving to a moderately mature age but not necessarily reaching very old age in the whole population. This can be due to several factors, such as natural predation, environmental conditions, and available resources.\n"
   ]
  },
  {
   "cell_type": "markdown",
   "metadata": {},
   "source": [
    "### Regression\n",
    "\n",
    "#### Theory\n",
    "\n",
    "Linear regression is a statistical method that models the relationship between the conditional mean of an outcome and one or more predictors as a linear function:\n",
    "\n",
    "$$E(Y \\mid x_1, x_2, \\ldots ) = a + b_1 x_1 + b_2 x_2 + \\ldots $$\n",
    "\n",
    "**Task**: Identify an outcome and two or more predictors you think may be related to the conditional mean of the outcome. Explain how you can use linear regression to model the relationship between the outcome and the predictors. Explain how linear regression can be used to test theories about the relationships between the outcome and the predictors; in particular comment on what it would mean if $b = 0$ for each of the predictors in the model."
   ]
  },
  {
   "cell_type": "markdown",
   "metadata": {},
   "source": [
    "### Regression\n",
    "\n",
    "**Outcome**: Moose population (`moose`)\n",
    "\n",
    "**Predictors**: \n",
    "1. Wolf population (`wolves`)\n",
    "2. Predation rate (`predation rate`)\n",
    "3. Snow depth (`snow.depth (cm)`)\n",
    "\n",
    "The model can be written as:\n",
    "```\n",
    "moose = a + b1 * wolves + b2 * predation rate + b3 * snow.depth (cm) + epsilon\n",
    "```\n",
    "\n",
    "Where:\n",
    "- `a` is the intercept.\n",
    "- `b1, b2, b3` are the coefficients for the predictors.\n",
    "- `epsilon` is the error term.\n",
    "\n",
    "**Testing Theories**:\n",
    "- If `b1 = 0`, it means that the wolf population has no effect on the moose population.\n",
    "- If `b2 = 0`, it means that the predation rate has no effect on the moose population.\n",
    "- If `b3 = 0`, it means that the snow depth has no effect on the moose population.\n",
    "\n"
   ]
  },
  {
   "cell_type": "markdown",
   "metadata": {},
   "source": [
    "#### Application\n",
    "\n",
    "**Task**: Fit a linear regression model to the data. Report the results of the model. What are the coefficients of the model? What is the interpretation of the coefficients? Given either confidence intervals or hypothesis tests to test if $b = 0$ for each coefficient. What do you conclude about the relationships between the predictors and the outcome based on those intervals/tests? What is the $R^2$ of the model? What is the interpretation of the $R^2$?"
   ]
  },
  {
   "cell_type": "code",
   "execution_count": null,
   "metadata": {},
   "outputs": [
    {
     "name": "stdout",
     "output_type": "stream",
     "text": [
      "                            OLS Regression Results                            \n",
      "==============================================================================\n",
      "Dep. Variable:                  moose   R-squared:                       0.373\n",
      "Model:                            OLS   Adj. R-squared:                  0.327\n",
      "Method:                 Least Squares   F-statistic:                     8.134\n",
      "Date:                Fri, 13 Dec 2024   Prob (F-statistic):           0.000229\n",
      "Time:                        23:06:26   Log-Likelihood:                -326.63\n",
      "No. Observations:                  45   AIC:                             661.3\n",
      "Df Residuals:                      41   BIC:                             668.5\n",
      "Df Model:                           3                                         \n",
      "Covariance Type:            nonrobust                                         \n",
      "===================================================================================\n",
      "                      coef    std err          t      P>|t|      [0.025      0.975]\n",
      "-----------------------------------------------------------------------------------\n",
      "const            1173.6364    203.819      5.758      0.000     762.016    1585.256\n",
      "wolves              1.3928      6.077      0.229      0.820     -10.880      13.666\n",
      "predation rate  -4589.3616   1224.148     -3.749      0.001   -7061.579   -2117.144\n",
      "snow.depth (cm)    15.1743      9.463      1.604      0.116      -3.937      34.285\n",
      "==============================================================================\n",
      "Omnibus:                       15.623   Durbin-Watson:                   0.561\n",
      "Prob(Omnibus):                  0.000   Jarque-Bera (JB):               17.905\n",
      "Skew:                           1.273   Prob(JB):                     0.000129\n",
      "Kurtosis:                       4.753   Cond. No.                         660.\n",
      "==============================================================================\n",
      "\n",
      "Notes:\n",
      "[1] Standard Errors assume that the covariance matrix of the errors is correctly specified.\n"
     ]
    }
   ],
   "source": [
    "\n",
    "X = wolf_moose_yearly[['wolves', 'predation rate', 'snow.depth (cm)']].dropna()\n",
    "y = wolf_moose_yearly.loc[X.index, 'moose']\n",
    "\n",
    "# Add a constant to the predictors\n",
    "X = sm.add_constant(X)\n",
    "\n",
    "# Fit the linear regression model\n",
    "model = sm.OLS(y, X).fit()\n",
    "\n",
    "# Print the summary of the model\n",
    "print(model.summary())"
   ]
  },
  {
   "cell_type": "markdown",
   "metadata": {},
   "source": [
    "Model Coefficients and Significance\n",
    "Intercept: The model intercept is 1173.64, suggesting the expected moose population when all predictors are zero.\n",
    "\n",
    "Wolf Population: The coefficient is 1.39, indicating a slight increase in moose population per additional wolf. But this effect is not statistically significant (p = 0.820).\n",
    "\n",
    "Predation Rate: Each unit increase in the predation rate decreases the moose population by 4589.36, a significant effect (p = 0.001).\n",
    "\n",
    "Snow Depth: Each centimeter increase in snow depth corresponds to an increase of 15.17 in moose population, but this relationship is not significant (p = 0.116).\n",
    "\n",
    "Model Goodness of Fit\n",
    "R-squared (R²): 0.373, suggesting that about 37.3% of the variability in the moose population is explained by the model. This indicates moderate explanatory power, but also highlights the presence of other unaccounted factors.\n"
   ]
  },
  {
   "cell_type": "markdown",
   "metadata": {},
   "source": [
    "### Classification\n",
    "\n",
    "#### Theory\n",
    "\n",
    "**Task**: Select a different outcome than the previous section that would be appropriate to use with a classification technique and predictors your think may be related to the outcome. Select a classification technique that you think would be appropriate for this data. Explain how you can use classification to model the relationship between the outcome and the predictors. Explain how classification can be used to test theories about the relationships between the outcome and the predictors. Be sure to explain how either training-test sets or cross-validation can be used to evaluate the accuracy of the model."
   ]
  },
  {
   "cell_type": "markdown",
   "metadata": {},
   "source": [
    "Outcome and Predictors:\n",
    "\n",
    "Outcome: Kill rate categorized as 'high' or 'low' based on the median.\n",
    "Predictors: Temperatures from three time periods during the year.\n",
    "Logistic Regression: This method models the probability of observing a 'high' kill rate based on temperature, estimating the impact of each predictor on the odds of higher kill rates.\n",
    "\n",
    "Theory Testing: Logistic regression tests hypotheses about the effect of wolves numbers, May-Aug preticipation, moose mean age excluding calves, and moose recruitment rate, providing empirical support or refutation for theoretical predictions.\n",
    "\n",
    "Model Evaluation:\n",
    "\n",
    "Training-Test Split: Assesses model accuracy on unseen data, avoiding overfitting.\n",
    "Cross-Validation: Ensures robustness by averaging performance across multiple subsets of the data."
   ]
  },
  {
   "cell_type": "markdown",
   "metadata": {},
   "source": [
    "#### Application\n",
    "\n",
    "**Task**: Use the classification technique you selected to model the relationship between the outcome and the predictors. Report the results of the model. Use the model to predict some interesting cases. Use either a training-test set split or cross validation to assess the accuracy of the classifier. If the classifier has tuning parameters, try several values of the tuning parameters to see how they affect the accuracy of the classifier. "
   ]
  },
  {
   "cell_type": "code",
   "execution_count": 52,
   "metadata": {},
   "outputs": [
    {
     "name": "stdout",
     "output_type": "stream",
     "text": [
      "Confusion Matrix:\n",
      "[[5 1]\n",
      " [1 3]]\n",
      "\n",
      "Classification Report:\n",
      "              precision    recall  f1-score   support\n",
      "\n",
      "           0       0.83      0.83      0.83         6\n",
      "           1       0.75      0.75      0.75         4\n",
      "\n",
      "    accuracy                           0.80        10\n",
      "   macro avg       0.79      0.79      0.79        10\n",
      "weighted avg       0.80      0.80      0.80        10\n",
      "\n",
      "\n",
      "Cross-Validation Accuracy: 0.87 ± 0.18\n"
     ]
    }
   ],
   "source": [
    "from sklearn.model_selection import train_test_split, cross_val_score\n",
    "from sklearn.linear_model import LogisticRegression\n",
    "from sklearn.metrics import classification_report, confusion_matrix\n",
    "\n",
    "# Convert kill rate to binary classification (high: 1, low: 0)\n",
    "wolf_moose_yearly['kill_rate_binary'] = (wolf_moose_yearly['kill rate'] > wolf_moose_yearly['kill rate'].median()).astype(int)\n",
    "\n",
    "# Select predictors and outcome\n",
    "X_classification = wolf_moose_yearly[['wolves', 'May-Aug (precip, inches)', 'moose mean age excluding calves','moose recruitment rate']].dropna()\n",
    "y_classification = wolf_moose_yearly.loc[X_classification.index, 'kill_rate_binary']\n",
    "\n",
    "# Split the data into training and test sets\n",
    "X_train, X_test, y_train, y_test = train_test_split(X_classification, y_classification, test_size=0.2, random_state=42)\n",
    "\n",
    "# Initialize and fit the logistic regression model\n",
    "log_reg = LogisticRegression()\n",
    "log_reg.fit(X_train, y_train)\n",
    "\n",
    "# Predict on the test set\n",
    "y_pred = log_reg.predict(X_test)\n",
    "\n",
    "# Evaluate the model\n",
    "print(\"Confusion Matrix:\")\n",
    "print(confusion_matrix(y_test, y_pred))\n",
    "print(\"\\nClassification Report:\")\n",
    "print(classification_report(y_test, y_pred))\n",
    "\n",
    "# Cross-validation\n",
    "cv_scores = cross_val_score(log_reg, X_classification, y_classification, cv=5)\n",
    "print(f\"\\nCross-Validation Accuracy: {cv_scores.mean():.2f} ± {cv_scores.std():.2f}\")"
   ]
  },
  {
   "cell_type": "markdown",
   "metadata": {},
   "source": [
    "Model Evaluation Results:\n",
    "\n",
    "Confusion Matrix: The model produced a matrix of [[5, 1], [1, 3]].\n",
    "\n",
    "Classification Report:\n",
    "Precision for low kill rate (class 0): 83%\n",
    "Precision for high kill rate (class 1): 75%\n",
    "\n",
    "Recall for both classes is 83% for class 0 and 75% for class 1, leading to an overall accuracy of 80%.\n",
    "\n",
    "Cross-Validation Accuracy: The average accuracy from cross-validation is 87%, with a standard deviation of 18%, indicating that the model performs reliably across different subsets of the data.\n",
    "The results suggest that the model performs adequately well with an accuracy of 80% on the test set and 87% in cross-validation, showing some consistency in predictive power."
   ]
  },
  {
   "cell_type": "markdown",
   "metadata": {},
   "source": [
    "## Conclusion\n",
    "\n",
    "**Task**: Write a conclusion to your analysis. Summarize the key findings of your analysis. What relationships did you find between the variables in the data? What inferences did you make about the populations of wolves and moose on Isle Royale? What theories did you test? What conclusions did you draw from those tests? What predictions did you make about the data? What conclusions did you draw from those predictions? What suggestions do you have for future data collection Isle Royale? What else would you like to learn about the populations of wolves and moose?"
   ]
  },
  {
   "cell_type": "markdown",
   "metadata": {},
   "source": [
    "The logistic regression analysis has uncovered significant correlations between the binary classification of kill rate—differentiating between high and low—and several key predictors. These include the number of wolves, precipitation levels from May to August, the average age of moose (excluding calves), and the moose recruitment rate. The model has proven to be reasonably accurate in forecasting whether kill rates will be high or low, with an impressive 80% accuracy rate in the test set and an average cross-validation accuracy of 87%.\n",
    "\n",
    "### Insights and Theoretical Support\n",
    "The findings from the analysis imply that the dynamics of predator-prey interactions, in this case between wolves and moose, are influenced by more than just the predator's numbers. Environmental conditions, such as precipitation, and demographic traits of the prey, like age and recruitment rate, also play a crucial role. This aligns with ecological theories that emphasize the multifaceted nature of these interactions, where factors beyond predator-prey numbers shape the outcomes.\n",
    "\n",
    "### Implications and Final Thoughts\n",
    "The model's predictions suggest that fluctuations in any of these variables could dramatically alter the predator-prey relationship on Isle Royale. For instance, a younger moose population or increased precipitation might be associated with reduced kill rates, possibly because these conditions create a more favorable environment for moose survival and reproduction.\n",
    "\n",
    "### Suggestions for Future Data Collection\n",
    "More detailed environmental monitoring (e.g., seasonal temperature changes, precipitation levels).\n",
    "Comprehensive demographic data on moose and wolves, including health metrics and genetic diversity.\n",
    "Longitudinal data to track changes over time and assess the impact of climate change.\n",
    "\n",
    "### Areas for Further Exploration\n",
    "Further studies could delve into the genetic diversity within the Isle Royale wolf and moose populations to understand the effects of inbreeding. It would also be insightful to examine how additional ecological factors, such as disease outbreaks and competition with other species, influence the complex dynamics between wolves and moose. This comprehensive approach could provide a more nuanced understanding of the ecological interplay on Isle Royale and beyond.\n"
   ]
  },
  {
   "cell_type": "markdown",
   "metadata": {},
   "source": [
    "## GenAI Appendix\n",
    "\n",
    "### Template\n",
    "\n",
    "Please copy this template and use it to indicate how you used GenAI tools in each section of the project.\n",
    "\n",
    "* Section Title:\n",
    "* Description of Use/Prompt:\n",
    "* Output from GenAI Tool:\n",
    "\n",
    "Example:\n",
    "\n",
    "* Section Title: Univariate Exploration, Discrete Variable\n",
    "* Description of Use/Prompt: I used ChatGPT to help me write a description of the distribution of the discrete variable.\n",
    "* Output from GenAI Tool: The discrete variable is a categorical variable that represents different categories. The distribution of the discrete variable shows that the categories are not evenly distributed. Some categories have a higher frequency than others. The most common category is category 1, which occurs in 30% of the observations. The least common category is category 3, which occurs in 10% of the observations."
   ]
  },
  {
   "cell_type": "markdown",
   "metadata": {},
   "source": [
    "## GenAI Appendix\n",
    "\n",
    "### Template\n",
    "\n",
    "* Section Title: Theories part\n",
    "* Description of Use/Prompt: I told chatgpt to write confidence interval equation that can be put into markdown. Prompt: \"please convert those hypothesis and equations into mathmathetical functions that can be illustrate well in vscode\"\n",
    "* Output from GenAI Tool: confidence interval, for example: CI = x̄ ± t(α/2, n-1) * (s/√n)\n",
    "\n",
    "\n",
    "### Template\n",
    "\n",
    "* Section Title: contingency table of winter temperature and sex\n",
    "* Description of Use/Prompt: I told chatgpt to help me to build a template of how to output a stacked bar graph\n",
    "* Output from GenAI Tool: a stacked bar graph of relationship of winter temperature and sex for moose. \n"
   ]
  },
  {
   "cell_type": "markdown",
   "metadata": {},
   "source": []
  }
 ],
 "metadata": {
  "kernelspec": {
   "display_name": "base",
   "language": "python",
   "name": "python3"
  },
  "language_info": {
   "codemirror_mode": {
    "name": "ipython",
    "version": 3
   },
   "file_extension": ".py",
   "mimetype": "text/x-python",
   "name": "python",
   "nbconvert_exporter": "python",
   "pygments_lexer": "ipython3",
   "version": "3.11.8"
  }
 },
 "nbformat": 4,
 "nbformat_minor": 4
}
